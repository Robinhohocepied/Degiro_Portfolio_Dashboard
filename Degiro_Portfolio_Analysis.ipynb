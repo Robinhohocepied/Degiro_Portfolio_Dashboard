{
 "cells": [
  {
   "cell_type": "code",
   "execution_count": 63,
   "metadata": {},
   "outputs": [],
   "source": [
    "import sys\n",
    "import degiroapi\n",
    "from degiroapi.product import Product\n",
    "from degiroapi.order import Order\n",
    "from degiroapi.utils import pretty_json\n",
    "import pandas as pd\n",
    "import numpy as np\n",
    "from datetime import datetime, timedelta\n",
    "import getpass\n",
    "import json\n",
    "import matplotlib.pyplot as plt\n",
    "import seaborn as sb\n",
    "from selenium import webdriver\n",
    "from bs4 import BeautifulSoup\n",
    "import urllib.request\n",
    "import csv\n",
    "import chromedriver_binary\n",
    "pd.options.display.float_format = '{:.0f}'.format"
   ]
  },
  {
   "cell_type": "code",
   "execution_count": 59,
   "metadata": {},
   "outputs": [
    {
     "name": "stderr",
     "output_type": "stream",
     "text": [
      "ERROR: Could not find a version that satisfies the requirement string (from versions: none)\n",
      "ERROR: No matching distribution found for string\n"
     ]
    }
   ],
   "source": [
    "!{sys.executable} -m pip install string"
   ]
  },
  {
   "cell_type": "markdown",
   "metadata": {},
   "source": [
    "### API Connection"
   ]
  },
  {
   "cell_type": "code",
   "execution_count": 162,
   "metadata": {},
   "outputs": [
    {
     "name": "stdin",
     "output_type": "stream",
     "text": [
      "YourPassword \n"
     ]
    }
   ],
   "source": [
    "#Create safe method for password\n",
    "password = getpass.getpass('YourPassword')\n",
    "print('Your password is: ' + password)"
   ]
  },
  {
   "cell_type": "code",
   "execution_count": 6,
   "metadata": {},
   "outputs": [
    {
     "data": {
      "text/plain": [
       "{'data': {'id': 501261,\n",
       "  'intAccount': 11025519,\n",
       "  'loggedInPersonId': 503705,\n",
       "  'clientRole': 'active',\n",
       "  'effectiveClientRole': 'active',\n",
       "  'contractType': 'PRIVATE',\n",
       "  'username': 'RobinHocepied',\n",
       "  'displayName': 'ROBIN JEAN C HOCEPIED',\n",
       "  'email': 'robinhocepied@gmail.com',\n",
       "  'firstContact': {'firstName': 'ROBIN JEAN C',\n",
       "   'lastName': 'HOCEPIED',\n",
       "   'displayName': 'ROBIN JEAN C HOCEPIED',\n",
       "   'nationality': 'BE',\n",
       "   'gender': 'MALE',\n",
       "   'dateOfBirth': '1993-05-24',\n",
       "   'placeOfBirth': 'Verviers',\n",
       "   'countryOfBirth': 'BE'},\n",
       "  'address': {'streetAddress': 'Rue Gérard',\n",
       "   'streetAddressNumber': '64',\n",
       "   'streetAddressExt': 'Etterbeek',\n",
       "   'zip': '1040',\n",
       "   'city': 'Bruxelles',\n",
       "   'country': 'BE'},\n",
       "  'cellphoneNumber': '+32471991561',\n",
       "  'locale': 'fr_BE',\n",
       "  'language': 'fr',\n",
       "  'culture': 'BE',\n",
       "  'displayLanguage': 'fr',\n",
       "  'bankAccount': {'bankAccountId': 508936,\n",
       "   'bic': 'CREGBEBBXXX',\n",
       "   'iban': 'BE58732028811879',\n",
       "   'status': 'VERIFIED'},\n",
       "  'flatexBankAccount': {'bic': 'BIWBDE33XXX',\n",
       "   'iban': 'DE73101308001017447600'},\n",
       "  'memberCode': 'EA0EF874',\n",
       "  'isWithdrawalAvailable': True,\n",
       "  'isAllocationAvailable': True,\n",
       "  'isIskClient': False,\n",
       "  'isCollectivePortfolio': False,\n",
       "  'isAmClientActive': False,\n",
       "  'canUpgrade': True}}"
      ]
     },
     "execution_count": 6,
     "metadata": {},
     "output_type": "execute_result"
    }
   ],
   "source": [
    "# login to Degiro\n",
    "degiro = degiroapi.DeGiro()\n",
    "degiro.login(\"RobinHocepied\", password)"
   ]
  },
  {
   "cell_type": "markdown",
   "metadata": {},
   "source": [
    "### Get Portfolio positions"
   ]
  },
  {
   "cell_type": "code",
   "execution_count": 7,
   "metadata": {},
   "outputs": [
    {
     "data": {
      "text/html": [
       "<div>\n",
       "<style scoped>\n",
       "    .dataframe tbody tr th:only-of-type {\n",
       "        vertical-align: middle;\n",
       "    }\n",
       "\n",
       "    .dataframe tbody tr th {\n",
       "        vertical-align: top;\n",
       "    }\n",
       "\n",
       "    .dataframe thead th {\n",
       "        text-align: right;\n",
       "    }\n",
       "</style>\n",
       "<table border=\"1\" class=\"dataframe\">\n",
       "  <thead>\n",
       "    <tr style=\"text-align: right;\">\n",
       "      <th></th>\n",
       "      <th>id</th>\n",
       "      <th>positionType</th>\n",
       "      <th>size</th>\n",
       "      <th>price</th>\n",
       "      <th>value</th>\n",
       "      <th>breakEvenPrice</th>\n",
       "    </tr>\n",
       "  </thead>\n",
       "  <tbody>\n",
       "    <tr>\n",
       "      <th>0</th>\n",
       "      <td>18343191</td>\n",
       "      <td>PRODUCT</td>\n",
       "      <td>1.0</td>\n",
       "      <td>38.42</td>\n",
       "      <td>33.974806</td>\n",
       "      <td>36.710000</td>\n",
       "    </tr>\n",
       "    <tr>\n",
       "      <th>1</th>\n",
       "      <td>19790636</td>\n",
       "      <td>PRODUCT</td>\n",
       "      <td>20.0</td>\n",
       "      <td>3.15</td>\n",
       "      <td>55.710900</td>\n",
       "      <td>5.210000</td>\n",
       "    </tr>\n",
       "    <tr>\n",
       "      <th>2</th>\n",
       "      <td>18333971</td>\n",
       "      <td>PRODUCT</td>\n",
       "      <td>1.0</td>\n",
       "      <td>18.98</td>\n",
       "      <td>16.784014</td>\n",
       "      <td>28.311741</td>\n",
       "    </tr>\n",
       "    <tr>\n",
       "      <th>3</th>\n",
       "      <td>19433248</td>\n",
       "      <td>PRODUCT</td>\n",
       "      <td>10.0</td>\n",
       "      <td>1.94</td>\n",
       "      <td>17.155420</td>\n",
       "      <td>3.892857</td>\n",
       "    </tr>\n",
       "    <tr>\n",
       "      <th>4</th>\n",
       "      <td>16204538</td>\n",
       "      <td>PRODUCT</td>\n",
       "      <td>401.0</td>\n",
       "      <td>2.27</td>\n",
       "      <td>804.951761</td>\n",
       "      <td>5.211147</td>\n",
       "    </tr>\n",
       "  </tbody>\n",
       "</table>\n",
       "</div>"
      ],
      "text/plain": [
       "         id positionType   size  price       value  breakEvenPrice\n",
       "0  18343191      PRODUCT    1.0  38.42   33.974806       36.710000\n",
       "1  19790636      PRODUCT   20.0   3.15   55.710900        5.210000\n",
       "2  18333971      PRODUCT    1.0  18.98   16.784014       28.311741\n",
       "3  19433248      PRODUCT   10.0   1.94   17.155420        3.892857\n",
       "4  16204538      PRODUCT  401.0   2.27  804.951761        5.211147"
      ]
     },
     "execution_count": 7,
     "metadata": {},
     "output_type": "execute_result"
    }
   ],
   "source": [
    "portfolio = degiro.getdata(degiroapi.Data.Type.PORTFOLIO, True)\n",
    "portfolio_df = pd.DataFrame(portfolio)\n",
    "portfolio_df.head(5)"
   ]
  },
  {
   "cell_type": "code",
   "execution_count": 8,
   "metadata": {},
   "outputs": [],
   "source": [
    "#Delete CASH in positionType\n",
    "i = portfolio_df[(portfolio_df.positionType == \"CASH\")].index\n",
    "portfolio_df.drop(i, inplace=True)"
   ]
  },
  {
   "cell_type": "code",
   "execution_count": 9,
   "metadata": {},
   "outputs": [
    {
     "data": {
      "text/html": [
       "<div>\n",
       "<style scoped>\n",
       "    .dataframe tbody tr th:only-of-type {\n",
       "        vertical-align: middle;\n",
       "    }\n",
       "\n",
       "    .dataframe tbody tr th {\n",
       "        vertical-align: top;\n",
       "    }\n",
       "\n",
       "    .dataframe thead th {\n",
       "        text-align: right;\n",
       "    }\n",
       "</style>\n",
       "<table border=\"1\" class=\"dataframe\">\n",
       "  <thead>\n",
       "    <tr style=\"text-align: right;\">\n",
       "      <th></th>\n",
       "      <th>id</th>\n",
       "      <th>positionType</th>\n",
       "      <th>size</th>\n",
       "      <th>price</th>\n",
       "      <th>value</th>\n",
       "      <th>breakEvenPrice</th>\n",
       "      <th>pct_of_total</th>\n",
       "    </tr>\n",
       "  </thead>\n",
       "  <tbody>\n",
       "    <tr>\n",
       "      <th>0</th>\n",
       "      <td>18343191</td>\n",
       "      <td>PRODUCT</td>\n",
       "      <td>1.0</td>\n",
       "      <td>38.42</td>\n",
       "      <td>33.974806</td>\n",
       "      <td>36.710000</td>\n",
       "      <td>0.34</td>\n",
       "    </tr>\n",
       "    <tr>\n",
       "      <th>1</th>\n",
       "      <td>19790636</td>\n",
       "      <td>PRODUCT</td>\n",
       "      <td>20.0</td>\n",
       "      <td>3.15</td>\n",
       "      <td>55.710900</td>\n",
       "      <td>5.210000</td>\n",
       "      <td>0.56</td>\n",
       "    </tr>\n",
       "    <tr>\n",
       "      <th>2</th>\n",
       "      <td>18333971</td>\n",
       "      <td>PRODUCT</td>\n",
       "      <td>1.0</td>\n",
       "      <td>18.98</td>\n",
       "      <td>16.784014</td>\n",
       "      <td>28.311741</td>\n",
       "      <td>0.17</td>\n",
       "    </tr>\n",
       "    <tr>\n",
       "      <th>3</th>\n",
       "      <td>19433248</td>\n",
       "      <td>PRODUCT</td>\n",
       "      <td>10.0</td>\n",
       "      <td>1.94</td>\n",
       "      <td>17.155420</td>\n",
       "      <td>3.892857</td>\n",
       "      <td>0.17</td>\n",
       "    </tr>\n",
       "    <tr>\n",
       "      <th>4</th>\n",
       "      <td>16204538</td>\n",
       "      <td>PRODUCT</td>\n",
       "      <td>401.0</td>\n",
       "      <td>2.27</td>\n",
       "      <td>804.951761</td>\n",
       "      <td>5.211147</td>\n",
       "      <td>8.04</td>\n",
       "    </tr>\n",
       "  </tbody>\n",
       "</table>\n",
       "</div>"
      ],
      "text/plain": [
       "         id positionType   size  price       value  breakEvenPrice  \\\n",
       "0  18343191      PRODUCT    1.0  38.42   33.974806       36.710000   \n",
       "1  19790636      PRODUCT   20.0   3.15   55.710900        5.210000   \n",
       "2  18333971      PRODUCT    1.0  18.98   16.784014       28.311741   \n",
       "3  19433248      PRODUCT   10.0   1.94   17.155420        3.892857   \n",
       "4  16204538      PRODUCT  401.0   2.27  804.951761        5.211147   \n",
       "\n",
       "   pct_of_total  \n",
       "0          0.34  \n",
       "1          0.56  \n",
       "2          0.17  \n",
       "3          0.17  \n",
       "4          8.04  "
      ]
     },
     "execution_count": 9,
     "metadata": {},
     "output_type": "execute_result"
    }
   ],
   "source": [
    "portfolio_df['pct_of_total'] = ((portfolio_df['value']/portfolio_df['value'].sum())*100).round(2)\n",
    "portfolio_df.head()"
   ]
  },
  {
   "cell_type": "code",
   "execution_count": 10,
   "metadata": {},
   "outputs": [
    {
     "data": {
      "text/html": [
       "<div>\n",
       "<style scoped>\n",
       "    .dataframe tbody tr th:only-of-type {\n",
       "        vertical-align: middle;\n",
       "    }\n",
       "\n",
       "    .dataframe tbody tr th {\n",
       "        vertical-align: top;\n",
       "    }\n",
       "\n",
       "    .dataframe thead th {\n",
       "        text-align: right;\n",
       "    }\n",
       "</style>\n",
       "<table border=\"1\" class=\"dataframe\">\n",
       "  <thead>\n",
       "    <tr style=\"text-align: right;\">\n",
       "      <th></th>\n",
       "      <th>size</th>\n",
       "      <th>price</th>\n",
       "      <th>value</th>\n",
       "      <th>breakEvenPrice</th>\n",
       "      <th>pct_of_total</th>\n",
       "    </tr>\n",
       "  </thead>\n",
       "  <tbody>\n",
       "    <tr>\n",
       "      <th>count</th>\n",
       "      <td>54.000000</td>\n",
       "      <td>54.000000</td>\n",
       "      <td>54.000000</td>\n",
       "      <td>54.000000</td>\n",
       "      <td>54.000000</td>\n",
       "    </tr>\n",
       "    <tr>\n",
       "      <th>mean</th>\n",
       "      <td>17.666667</td>\n",
       "      <td>68.534259</td>\n",
       "      <td>185.298887</td>\n",
       "      <td>92.118754</td>\n",
       "      <td>1.851852</td>\n",
       "    </tr>\n",
       "    <tr>\n",
       "      <th>std</th>\n",
       "      <td>61.032933</td>\n",
       "      <td>70.017661</td>\n",
       "      <td>477.502981</td>\n",
       "      <td>95.733025</td>\n",
       "      <td>4.772557</td>\n",
       "    </tr>\n",
       "    <tr>\n",
       "      <th>min</th>\n",
       "      <td>1.000000</td>\n",
       "      <td>1.390000</td>\n",
       "      <td>5.403073</td>\n",
       "      <td>1.380000</td>\n",
       "      <td>0.050000</td>\n",
       "    </tr>\n",
       "    <tr>\n",
       "      <th>25%</th>\n",
       "      <td>1.000000</td>\n",
       "      <td>17.007500</td>\n",
       "      <td>42.470791</td>\n",
       "      <td>24.639018</td>\n",
       "      <td>0.425000</td>\n",
       "    </tr>\n",
       "    <tr>\n",
       "      <th>50%</th>\n",
       "      <td>1.000000</td>\n",
       "      <td>42.590000</td>\n",
       "      <td>100.332678</td>\n",
       "      <td>65.516190</td>\n",
       "      <td>1.005000</td>\n",
       "    </tr>\n",
       "    <tr>\n",
       "      <th>75%</th>\n",
       "      <td>4.750000</td>\n",
       "      <td>109.785000</td>\n",
       "      <td>162.063450</td>\n",
       "      <td>123.299584</td>\n",
       "      <td>1.622500</td>\n",
       "    </tr>\n",
       "    <tr>\n",
       "      <th>max</th>\n",
       "      <td>401.000000</td>\n",
       "      <td>307.000000</td>\n",
       "      <td>3498.741793</td>\n",
       "      <td>405.045937</td>\n",
       "      <td>34.970000</td>\n",
       "    </tr>\n",
       "  </tbody>\n",
       "</table>\n",
       "</div>"
      ],
      "text/plain": [
       "             size       price        value  breakEvenPrice  pct_of_total\n",
       "count   54.000000   54.000000    54.000000       54.000000     54.000000\n",
       "mean    17.666667   68.534259   185.298887       92.118754      1.851852\n",
       "std     61.032933   70.017661   477.502981       95.733025      4.772557\n",
       "min      1.000000    1.390000     5.403073        1.380000      0.050000\n",
       "25%      1.000000   17.007500    42.470791       24.639018      0.425000\n",
       "50%      1.000000   42.590000   100.332678       65.516190      1.005000\n",
       "75%      4.750000  109.785000   162.063450      123.299584      1.622500\n",
       "max    401.000000  307.000000  3498.741793      405.045937     34.970000"
      ]
     },
     "execution_count": 10,
     "metadata": {},
     "output_type": "execute_result"
    }
   ],
   "source": [
    "portfolio_df.describe()"
   ]
  },
  {
   "cell_type": "code",
   "execution_count": 11,
   "metadata": {},
   "outputs": [
    {
     "data": {
      "image/png": "[encoded data removed]",
      "text/plain": [
       "<Figure size 720x504 with 1 Axes>"
      ]
     },
     "metadata": {
      "needs_background": "light"
     },
     "output_type": "display_data"
    }
   ],
   "source": [
    "# Portfolio weights\n",
    "\n",
    "# Figure Size\n",
    "fig = plt.figure(figsize =(10, 7))\n",
    " \n",
    "plt.hist(portfolio_df.pct_of_total,  bins=100)\n",
    "plt.show() "
   ]
  },
  {
   "cell_type": "code",
   "execution_count": 12,
   "metadata": {},
   "outputs": [
    {
     "data": {
      "text/plain": [
       "<AxesSubplot:xlabel='pct_of_total'>"
      ]
     },
     "execution_count": 12,
     "metadata": {},
     "output_type": "execute_result"
    },
    {
     "data": {
      "image/png": "[encoded data removed]",
      "text/plain": [
       "<Figure size 432x288 with 1 Axes>"
      ]
     },
     "metadata": {
      "needs_background": "light"
     },
     "output_type": "display_data"
    }
   ],
   "source": [
    "#Boxplot\n",
    "sb.boxplot(x = 'pct_of_total', data = portfolio_df, showfliers = True)"
   ]
  },
  {
   "cell_type": "markdown",
   "metadata": {},
   "source": [
    "### Get Stock Names"
   ]
  },
  {
   "cell_type": "code",
   "execution_count": 13,
   "metadata": {},
   "outputs": [],
   "source": [
    "stock_names = [degiro.product_info(x) for x in portfolio_df['id'].values]\n",
    "stock_names_df = pd.DataFrame(stock_names)"
   ]
  },
  {
   "cell_type": "code",
   "execution_count": 14,
   "metadata": {},
   "outputs": [
    {
     "data": {
      "text/html": [
       "<div>\n",
       "<style scoped>\n",
       "    .dataframe tbody tr th:only-of-type {\n",
       "        vertical-align: middle;\n",
       "    }\n",
       "\n",
       "    .dataframe tbody tr th {\n",
       "        vertical-align: top;\n",
       "    }\n",
       "\n",
       "    .dataframe thead th {\n",
       "        text-align: right;\n",
       "    }\n",
       "</style>\n",
       "<table border=\"1\" class=\"dataframe\">\n",
       "  <thead>\n",
       "    <tr style=\"text-align: right;\">\n",
       "      <th></th>\n",
       "      <th>id</th>\n",
       "      <th>name</th>\n",
       "      <th>symbol</th>\n",
       "    </tr>\n",
       "  </thead>\n",
       "  <tbody>\n",
       "    <tr>\n",
       "      <th>0</th>\n",
       "      <td>18343191</td>\n",
       "      <td>Goodrx Holdings Inc</td>\n",
       "      <td>GDRX</td>\n",
       "    </tr>\n",
       "    <tr>\n",
       "      <th>1</th>\n",
       "      <td>19790636</td>\n",
       "      <td>FIELD TRIP HEALTH LTD. - COMMON SHARES</td>\n",
       "      <td>FTRP</td>\n",
       "    </tr>\n",
       "    <tr>\n",
       "      <th>2</th>\n",
       "      <td>18333971</td>\n",
       "      <td>Palantir Technologies Inc</td>\n",
       "      <td>PLTR</td>\n",
       "    </tr>\n",
       "    <tr>\n",
       "      <th>3</th>\n",
       "      <td>19433248</td>\n",
       "      <td>FLORA GROWTH CORP. - COMMON STOCK</td>\n",
       "      <td>FLGC</td>\n",
       "    </tr>\n",
       "    <tr>\n",
       "      <th>4</th>\n",
       "      <td>16204538</td>\n",
       "      <td>Douyu International Holdings Ltd</td>\n",
       "      <td>DOYU</td>\n",
       "    </tr>\n",
       "  </tbody>\n",
       "</table>\n",
       "</div>"
      ],
      "text/plain": [
       "         id                                    name symbol\n",
       "0  18343191                     Goodrx Holdings Inc   GDRX\n",
       "1  19790636  FIELD TRIP HEALTH LTD. - COMMON SHARES   FTRP\n",
       "2  18333971               Palantir Technologies Inc   PLTR\n",
       "3  19433248       FLORA GROWTH CORP. - COMMON STOCK   FLGC\n",
       "4  16204538        Douyu International Holdings Ltd   DOYU"
      ]
     },
     "execution_count": 14,
     "metadata": {},
     "output_type": "execute_result"
    }
   ],
   "source": [
    "stock_names_df = stock_names_df[['id','name','symbol']]\n",
    "stock_names_df.head()"
   ]
  },
  {
   "cell_type": "markdown",
   "metadata": {},
   "source": [
    "### Merge Portfolio and Stock Names"
   ]
  },
  {
   "cell_type": "code",
   "execution_count": 15,
   "metadata": {},
   "outputs": [],
   "source": [
    "portfolio_stock_df = portfolio_df.merge(stock_names_df, how='left', on='id')"
   ]
  },
  {
   "cell_type": "code",
   "execution_count": 16,
   "metadata": {},
   "outputs": [
    {
     "data": {
      "text/html": [
       "<div>\n",
       "<style scoped>\n",
       "    .dataframe tbody tr th:only-of-type {\n",
       "        vertical-align: middle;\n",
       "    }\n",
       "\n",
       "    .dataframe tbody tr th {\n",
       "        vertical-align: top;\n",
       "    }\n",
       "\n",
       "    .dataframe thead th {\n",
       "        text-align: right;\n",
       "    }\n",
       "</style>\n",
       "<table border=\"1\" class=\"dataframe\">\n",
       "  <thead>\n",
       "    <tr style=\"text-align: right;\">\n",
       "      <th></th>\n",
       "      <th>id</th>\n",
       "      <th>positionType</th>\n",
       "      <th>size</th>\n",
       "      <th>price</th>\n",
       "      <th>value</th>\n",
       "      <th>breakEvenPrice</th>\n",
       "      <th>pct_of_total</th>\n",
       "      <th>name</th>\n",
       "      <th>symbol</th>\n",
       "    </tr>\n",
       "  </thead>\n",
       "  <tbody>\n",
       "    <tr>\n",
       "      <th>0</th>\n",
       "      <td>18343191</td>\n",
       "      <td>PRODUCT</td>\n",
       "      <td>1.0</td>\n",
       "      <td>38.42</td>\n",
       "      <td>33.974806</td>\n",
       "      <td>36.710000</td>\n",
       "      <td>0.34</td>\n",
       "      <td>Goodrx Holdings Inc</td>\n",
       "      <td>GDRX</td>\n",
       "    </tr>\n",
       "    <tr>\n",
       "      <th>1</th>\n",
       "      <td>19790636</td>\n",
       "      <td>PRODUCT</td>\n",
       "      <td>20.0</td>\n",
       "      <td>3.15</td>\n",
       "      <td>55.710900</td>\n",
       "      <td>5.210000</td>\n",
       "      <td>0.56</td>\n",
       "      <td>FIELD TRIP HEALTH LTD. - COMMON SHARES</td>\n",
       "      <td>FTRP</td>\n",
       "    </tr>\n",
       "    <tr>\n",
       "      <th>2</th>\n",
       "      <td>18333971</td>\n",
       "      <td>PRODUCT</td>\n",
       "      <td>1.0</td>\n",
       "      <td>18.98</td>\n",
       "      <td>16.784014</td>\n",
       "      <td>28.311741</td>\n",
       "      <td>0.17</td>\n",
       "      <td>Palantir Technologies Inc</td>\n",
       "      <td>PLTR</td>\n",
       "    </tr>\n",
       "    <tr>\n",
       "      <th>3</th>\n",
       "      <td>19433248</td>\n",
       "      <td>PRODUCT</td>\n",
       "      <td>10.0</td>\n",
       "      <td>1.94</td>\n",
       "      <td>17.155420</td>\n",
       "      <td>3.892857</td>\n",
       "      <td>0.17</td>\n",
       "      <td>FLORA GROWTH CORP. - COMMON STOCK</td>\n",
       "      <td>FLGC</td>\n",
       "    </tr>\n",
       "    <tr>\n",
       "      <th>4</th>\n",
       "      <td>16204538</td>\n",
       "      <td>PRODUCT</td>\n",
       "      <td>401.0</td>\n",
       "      <td>2.27</td>\n",
       "      <td>804.951761</td>\n",
       "      <td>5.211147</td>\n",
       "      <td>8.04</td>\n",
       "      <td>Douyu International Holdings Ltd</td>\n",
       "      <td>DOYU</td>\n",
       "    </tr>\n",
       "  </tbody>\n",
       "</table>\n",
       "</div>"
      ],
      "text/plain": [
       "         id positionType   size  price       value  breakEvenPrice  \\\n",
       "0  18343191      PRODUCT    1.0  38.42   33.974806       36.710000   \n",
       "1  19790636      PRODUCT   20.0   3.15   55.710900        5.210000   \n",
       "2  18333971      PRODUCT    1.0  18.98   16.784014       28.311741   \n",
       "3  19433248      PRODUCT   10.0   1.94   17.155420        3.892857   \n",
       "4  16204538      PRODUCT  401.0   2.27  804.951761        5.211147   \n",
       "\n",
       "   pct_of_total                                    name symbol  \n",
       "0          0.34                     Goodrx Holdings Inc   GDRX  \n",
       "1          0.56  FIELD TRIP HEALTH LTD. - COMMON SHARES   FTRP  \n",
       "2          0.17               Palantir Technologies Inc   PLTR  \n",
       "3          0.17       FLORA GROWTH CORP. - COMMON STOCK   FLGC  \n",
       "4          8.04        Douyu International Holdings Ltd   DOYU  "
      ]
     },
     "execution_count": 16,
     "metadata": {},
     "output_type": "execute_result"
    }
   ],
   "source": [
    "portfolio_stock_df.head()"
   ]
  },
  {
   "cell_type": "markdown",
   "metadata": {},
   "source": [
    "### Web Scraping Yahoo Finance"
   ]
  },
  {
   "cell_type": "markdown",
   "metadata": {},
   "source": [
    "https://finance.yahoo.com/quote/GDRX?p=GDRX"
   ]
  },
  {
   "cell_type": "code",
   "execution_count": 159,
   "metadata": {},
   "outputs": [],
   "source": [
    "var = 'PLTR'\n",
    "var_1 = var + '/' \n",
    "url='https://finance.yahoo.com/quote/{0}'.format(var_1)\n",
    "response = requests.get(url)"
   ]
  },
  {
   "cell_type": "code",
   "execution_count": 161,
   "metadata": {},
   "outputs": [
    {
     "name": "stdout",
     "output_type": "stream",
     "text": [
      "<title>Palantir Technologies Inc. (PLTR) Stock Price, News, Quote &amp; History - Yahoo Finance</title>\n"
     ]
    }
   ],
   "source": [
    "soup = BeautifulSoup(response.text, 'html.parser')\n",
    "print(soup.title)"
   ]
  },
  {
   "cell_type": "code",
   "execution_count": 104,
   "metadata": {},
   "outputs": [],
   "source": [
    "sector_industry = [entry.text for entry in soup.find_all('span', {'class':'Fw(600)'})]"
   ]
  },
  {
   "cell_type": "code",
   "execution_count": null,
   "metadata": {},
   "outputs": [],
   "source": []
  },
  {
   "cell_type": "code",
   "execution_count": null,
   "metadata": {},
   "outputs": [],
   "source": []
  },
  {
   "cell_type": "code",
   "execution_count": 137,
   "metadata": {},
   "outputs": [],
   "source": [
    "sector =[]"
   ]
  },
  {
   "cell_type": "code",
   "execution_count": 138,
   "metadata": {},
   "outputs": [],
   "source": [
    "for entry in soup.find_all('span', {'class':'Fw(600)'}):\n",
    "    if len(entry.text)>3 and entry.text != 'Morningstar':\n",
    "        sector.append(entry.text)\n",
    "    "
   ]
  },
  {
   "cell_type": "code",
   "execution_count": 139,
   "metadata": {},
   "outputs": [
    {
     "data": {
      "text/plain": [
       "['Technology', 'Software—Infrastructure', '2,733']"
      ]
     },
     "execution_count": 139,
     "metadata": {},
     "output_type": "execute_result"
    }
   ],
   "source": [
    "sector"
   ]
  },
  {
   "cell_type": "code",
   "execution_count": 133,
   "metadata": {},
   "outputs": [
    {
     "data": {
      "text/plain": [
       "'Morningstar'"
      ]
     },
     "execution_count": 133,
     "metadata": {},
     "output_type": "execute_result"
    }
   ],
   "source": [
    "sector[0]"
   ]
  },
  {
   "cell_type": "markdown",
   "metadata": {},
   "source": [
    "### Portfolio Analysis - Unrealized Gains"
   ]
  },
  {
   "cell_type": "markdown",
   "metadata": {},
   "source": [
    "##### Ideas: \n",
    "1. Industry\n",
    "2. IPO \n",
    "3. Last 12 months return \n",
    "4. ..."
   ]
  },
  {
   "cell_type": "code",
   "execution_count": 17,
   "metadata": {},
   "outputs": [],
   "source": [
    "portfolio_stock_df['unrealized_gains'] = round((portfolio_stock_df['price']-portfolio_stock_df['breakEvenPrice'])*portfolio_stock_df['size'],2)"
   ]
  },
  {
   "cell_type": "code",
   "execution_count": 18,
   "metadata": {},
   "outputs": [
    {
     "data": {
      "text/plain": [
       "10006.14"
      ]
     },
     "execution_count": 18,
     "metadata": {},
     "output_type": "execute_result"
    }
   ],
   "source": [
    "#Total Value of Portfolio\n",
    "round(portfolio_stock_df['value'].sum(),2)"
   ]
  },
  {
   "cell_type": "code",
   "execution_count": 19,
   "metadata": {},
   "outputs": [
    {
     "data": {
      "text/plain": [
       "-5205.9"
      ]
     },
     "execution_count": 19,
     "metadata": {},
     "output_type": "execute_result"
    }
   ],
   "source": [
    "#Total Value of Unrealized Gains\n",
    "round(portfolio_stock_df['unrealized_gains'].sum(),2)"
   ]
  },
  {
   "cell_type": "code",
   "execution_count": 21,
   "metadata": {},
   "outputs": [
    {
     "data": {
      "text/html": [
       "<div>\n",
       "<style scoped>\n",
       "    .dataframe tbody tr th:only-of-type {\n",
       "        vertical-align: middle;\n",
       "    }\n",
       "\n",
       "    .dataframe tbody tr th {\n",
       "        vertical-align: top;\n",
       "    }\n",
       "\n",
       "    .dataframe thead th {\n",
       "        text-align: right;\n",
       "    }\n",
       "</style>\n",
       "<table border=\"1\" class=\"dataframe\">\n",
       "  <thead>\n",
       "    <tr style=\"text-align: right;\">\n",
       "      <th></th>\n",
       "      <th>id</th>\n",
       "      <th>positionType</th>\n",
       "      <th>size</th>\n",
       "      <th>price</th>\n",
       "      <th>value</th>\n",
       "      <th>breakEvenPrice</th>\n",
       "      <th>pct_of_total</th>\n",
       "      <th>name</th>\n",
       "      <th>symbol</th>\n",
       "      <th>unrealized_gains</th>\n",
       "      <th>quantile</th>\n",
       "    </tr>\n",
       "  </thead>\n",
       "  <tbody>\n",
       "    <tr>\n",
       "      <th>0</th>\n",
       "      <td>18343191</td>\n",
       "      <td>PRODUCT</td>\n",
       "      <td>1.0</td>\n",
       "      <td>38.42</td>\n",
       "      <td>33.974806</td>\n",
       "      <td>36.710000</td>\n",
       "      <td>0.34</td>\n",
       "      <td>Goodrx Holdings Inc</td>\n",
       "      <td>GDRX</td>\n",
       "      <td>1.71</td>\n",
       "      <td>0</td>\n",
       "    </tr>\n",
       "    <tr>\n",
       "      <th>1</th>\n",
       "      <td>19790636</td>\n",
       "      <td>PRODUCT</td>\n",
       "      <td>20.0</td>\n",
       "      <td>3.15</td>\n",
       "      <td>55.710900</td>\n",
       "      <td>5.210000</td>\n",
       "      <td>0.56</td>\n",
       "      <td>FIELD TRIP HEALTH LTD. - COMMON SHARES</td>\n",
       "      <td>FTRP</td>\n",
       "      <td>-41.20</td>\n",
       "      <td>1</td>\n",
       "    </tr>\n",
       "    <tr>\n",
       "      <th>2</th>\n",
       "      <td>18333971</td>\n",
       "      <td>PRODUCT</td>\n",
       "      <td>1.0</td>\n",
       "      <td>18.98</td>\n",
       "      <td>16.784014</td>\n",
       "      <td>28.311741</td>\n",
       "      <td>0.17</td>\n",
       "      <td>Palantir Technologies Inc</td>\n",
       "      <td>PLTR</td>\n",
       "      <td>-9.33</td>\n",
       "      <td>0</td>\n",
       "    </tr>\n",
       "    <tr>\n",
       "      <th>3</th>\n",
       "      <td>19433248</td>\n",
       "      <td>PRODUCT</td>\n",
       "      <td>10.0</td>\n",
       "      <td>1.94</td>\n",
       "      <td>17.155420</td>\n",
       "      <td>3.892857</td>\n",
       "      <td>0.17</td>\n",
       "      <td>FLORA GROWTH CORP. - COMMON STOCK</td>\n",
       "      <td>FLGC</td>\n",
       "      <td>-19.53</td>\n",
       "      <td>0</td>\n",
       "    </tr>\n",
       "    <tr>\n",
       "      <th>4</th>\n",
       "      <td>16204538</td>\n",
       "      <td>PRODUCT</td>\n",
       "      <td>401.0</td>\n",
       "      <td>2.27</td>\n",
       "      <td>804.951761</td>\n",
       "      <td>5.211147</td>\n",
       "      <td>8.04</td>\n",
       "      <td>Douyu International Holdings Ltd</td>\n",
       "      <td>DOYU</td>\n",
       "      <td>-1179.40</td>\n",
       "      <td>3</td>\n",
       "    </tr>\n",
       "  </tbody>\n",
       "</table>\n",
       "</div>"
      ],
      "text/plain": [
       "         id positionType   size  price       value  breakEvenPrice  \\\n",
       "0  18343191      PRODUCT    1.0  38.42   33.974806       36.710000   \n",
       "1  19790636      PRODUCT   20.0   3.15   55.710900        5.210000   \n",
       "2  18333971      PRODUCT    1.0  18.98   16.784014       28.311741   \n",
       "3  19433248      PRODUCT   10.0   1.94   17.155420        3.892857   \n",
       "4  16204538      PRODUCT  401.0   2.27  804.951761        5.211147   \n",
       "\n",
       "   pct_of_total                                    name symbol  \\\n",
       "0          0.34                     Goodrx Holdings Inc   GDRX   \n",
       "1          0.56  FIELD TRIP HEALTH LTD. - COMMON SHARES   FTRP   \n",
       "2          0.17               Palantir Technologies Inc   PLTR   \n",
       "3          0.17       FLORA GROWTH CORP. - COMMON STOCK   FLGC   \n",
       "4          8.04        Douyu International Holdings Ltd   DOYU   \n",
       "\n",
       "   unrealized_gains  quantile  \n",
       "0              1.71         0  \n",
       "1            -41.20         1  \n",
       "2             -9.33         0  \n",
       "3            -19.53         0  \n",
       "4          -1179.40         3  "
      ]
     },
     "execution_count": 21,
     "metadata": {},
     "output_type": "execute_result"
    }
   ],
   "source": [
    "#Assign Quantiles to the Stocks % of total\n",
    "quantiles = pd.qcut(portfolio_stock_df['pct_of_total'], 4, labels=False)\n",
    "portfolio_stock_df = portfolio_stock_df.assign(quantile=quantiles.values)\n",
    "portfolio_stock_df.head()"
   ]
  },
  {
   "cell_type": "code",
   "execution_count": 22,
   "metadata": {},
   "outputs": [
    {
     "data": {
      "text/plain": [
       "<seaborn.axisgrid.FacetGrid at 0x17ec76fa4c0>"
      ]
     },
     "execution_count": 22,
     "metadata": {},
     "output_type": "execute_result"
    },
    {
     "data": {
      "image/png": "[encoded data removed]",
      "text/plain": [
       "<Figure size 553x360 with 1 Axes>"
      ]
     },
     "metadata": {
      "needs_background": "light"
     },
     "output_type": "display_data"
    }
   ],
   "source": [
    "#Overlayed Distribution by quantile\n",
    "sb.displot(\n",
    "  data=portfolio_stock_df,\n",
    "  x=\"pct_of_total\",\n",
    "  hue=\"quantile\",\n",
    "  kind=\"hist\",\n",
    "  aspect=1.4,\n",
    "  log_scale=10,\n",
    "  bins=50\n",
    ")"
   ]
  },
  {
   "cell_type": "code",
   "execution_count": 23,
   "metadata": {},
   "outputs": [
    {
     "data": {
      "text/plain": [
       "<seaborn.axisgrid.FacetGrid at 0x17ec7a2b8e0>"
      ]
     },
     "execution_count": 23,
     "metadata": {},
     "output_type": "execute_result"
    },
    {
     "data": {
      "image/png": "[encoded data removed]",
      "text/plain": [
       "<Figure size 2016x360 with 4 Axes>"
      ]
     },
     "metadata": {
      "needs_background": "light"
     },
     "output_type": "display_data"
    }
   ],
   "source": [
    "#Distributions by quantile\n",
    "sb.displot(\n",
    "  data=portfolio_stock_df,\n",
    "  x=\"pct_of_total\",\n",
    "  col=\"quantile\",\n",
    "  kind=\"hist\",\n",
    "  aspect=1.4,\n",
    "  log_scale=10,\n",
    "  bins=50\n",
    ")"
   ]
  },
  {
   "cell_type": "markdown",
   "metadata": {},
   "source": [
    "### Transactions"
   ]
  },
  {
   "cell_type": "code",
   "execution_count": 24,
   "metadata": {},
   "outputs": [],
   "source": [
    "transactions = degiro.transactions(datetime(2018, 1, 1), datetime.now())"
   ]
  },
  {
   "cell_type": "code",
   "execution_count": 25,
   "metadata": {},
   "outputs": [],
   "source": [
    "transactions_df = pd.DataFrame(transactions)"
   ]
  },
  {
   "cell_type": "code",
   "execution_count": 26,
   "metadata": {},
   "outputs": [
    {
     "data": {
      "text/html": [
       "<div>\n",
       "<style scoped>\n",
       "    .dataframe tbody tr th:only-of-type {\n",
       "        vertical-align: middle;\n",
       "    }\n",
       "\n",
       "    .dataframe tbody tr th {\n",
       "        vertical-align: top;\n",
       "    }\n",
       "\n",
       "    .dataframe thead th {\n",
       "        text-align: right;\n",
       "    }\n",
       "</style>\n",
       "<table border=\"1\" class=\"dataframe\">\n",
       "  <thead>\n",
       "    <tr style=\"text-align: right;\">\n",
       "      <th></th>\n",
       "      <th>id</th>\n",
       "      <th>productId</th>\n",
       "      <th>price</th>\n",
       "      <th>quantity</th>\n",
       "      <th>total</th>\n",
       "      <th>orderTypeId</th>\n",
       "      <th>fxRate</th>\n",
       "      <th>totalInBaseCurrency</th>\n",
       "      <th>feeInBaseCurrency</th>\n",
       "      <th>totalPlusFeeInBaseCurrency</th>\n",
       "      <th>transactionTypeId</th>\n",
       "    </tr>\n",
       "  </thead>\n",
       "  <tbody>\n",
       "    <tr>\n",
       "      <th>count</th>\n",
       "      <td>8.760000e+02</td>\n",
       "      <td>8.760000e+02</td>\n",
       "      <td>876.000000</td>\n",
       "      <td>876.000000</td>\n",
       "      <td>876.000000</td>\n",
       "      <td>870.000000</td>\n",
       "      <td>876.000000</td>\n",
       "      <td>876.000000</td>\n",
       "      <td>852.000000</td>\n",
       "      <td>876.000000</td>\n",
       "      <td>876.000000</td>\n",
       "    </tr>\n",
       "    <tr>\n",
       "      <th>mean</th>\n",
       "      <td>2.125192e+08</td>\n",
       "      <td>1.178274e+07</td>\n",
       "      <td>112.263895</td>\n",
       "      <td>1.089041</td>\n",
       "      <td>11.861818</td>\n",
       "      <td>1.806897</td>\n",
       "      <td>1.219161</td>\n",
       "      <td>6.367550</td>\n",
       "      <td>-0.761185</td>\n",
       "      <td>5.627219</td>\n",
       "      <td>0.719178</td>\n",
       "    </tr>\n",
       "    <tr>\n",
       "      <th>std</th>\n",
       "      <td>4.353589e+07</td>\n",
       "      <td>6.091382e+06</td>\n",
       "      <td>173.450285</td>\n",
       "      <td>1205.582333</td>\n",
       "      <td>1503.419313</td>\n",
       "      <td>0.591033</td>\n",
       "      <td>1.176719</td>\n",
       "      <td>1227.270217</td>\n",
       "      <td>1.013625</td>\n",
       "      <td>1227.244843</td>\n",
       "      <td>8.668427</td>\n",
       "    </tr>\n",
       "    <tr>\n",
       "      <th>min</th>\n",
       "      <td>1.534398e+08</td>\n",
       "      <td>2.554290e+05</td>\n",
       "      <td>0.020000</td>\n",
       "      <td>-30000.000000</td>\n",
       "      <td>-8075.200000</td>\n",
       "      <td>0.000000</td>\n",
       "      <td>0.000000</td>\n",
       "      <td>-6598.463588</td>\n",
       "      <td>-9.070000</td>\n",
       "      <td>-6599.223588</td>\n",
       "      <td>0.000000</td>\n",
       "    </tr>\n",
       "    <tr>\n",
       "      <th>25%</th>\n",
       "      <td>1.658811e+08</td>\n",
       "      <td>5.586795e+06</td>\n",
       "      <td>27.525000</td>\n",
       "      <td>-5.000000</td>\n",
       "      <td>-587.575000</td>\n",
       "      <td>2.000000</td>\n",
       "      <td>1.108708</td>\n",
       "      <td>-511.433991</td>\n",
       "      <td>-0.592500</td>\n",
       "      <td>-511.943991</td>\n",
       "      <td>0.000000</td>\n",
       "    </tr>\n",
       "    <tr>\n",
       "      <th>50%</th>\n",
       "      <td>2.074266e+08</td>\n",
       "      <td>1.465250e+07</td>\n",
       "      <td>65.955000</td>\n",
       "      <td>1.000000</td>\n",
       "      <td>-103.385000</td>\n",
       "      <td>2.000000</td>\n",
       "      <td>1.131118</td>\n",
       "      <td>-87.057732</td>\n",
       "      <td>-0.530000</td>\n",
       "      <td>-87.557732</td>\n",
       "      <td>0.000000</td>\n",
       "    </tr>\n",
       "    <tr>\n",
       "      <th>75%</th>\n",
       "      <td>2.388252e+08</td>\n",
       "      <td>1.608294e+07</td>\n",
       "      <td>146.092500</td>\n",
       "      <td>10.000000</td>\n",
       "      <td>480.900000</td>\n",
       "      <td>2.000000</td>\n",
       "      <td>1.180780</td>\n",
       "      <td>407.109835</td>\n",
       "      <td>-0.510000</td>\n",
       "      <td>406.669835</td>\n",
       "      <td>0.000000</td>\n",
       "    </tr>\n",
       "    <tr>\n",
       "      <th>max</th>\n",
       "      <td>3.213756e+08</td>\n",
       "      <td>1.981116e+07</td>\n",
       "      <td>2293.590000</td>\n",
       "      <td>15000.000000</td>\n",
       "      <td>11467.000000</td>\n",
       "      <td>2.000000</td>\n",
       "      <td>10.767056</td>\n",
       "      <td>9407.389091</td>\n",
       "      <td>-0.010000</td>\n",
       "      <td>9406.559091</td>\n",
       "      <td>108.000000</td>\n",
       "    </tr>\n",
       "  </tbody>\n",
       "</table>\n",
       "</div>"
      ],
      "text/plain": [
       "                 id     productId        price      quantity         total  \\\n",
       "count  8.760000e+02  8.760000e+02   876.000000    876.000000    876.000000   \n",
       "mean   2.125192e+08  1.178274e+07   112.263895      1.089041     11.861818   \n",
       "std    4.353589e+07  6.091382e+06   173.450285   1205.582333   1503.419313   \n",
       "min    1.534398e+08  2.554290e+05     0.020000 -30000.000000  -8075.200000   \n",
       "25%    1.658811e+08  5.586795e+06    27.525000     -5.000000   -587.575000   \n",
       "50%    2.074266e+08  1.465250e+07    65.955000      1.000000   -103.385000   \n",
       "75%    2.388252e+08  1.608294e+07   146.092500     10.000000    480.900000   \n",
       "max    3.213756e+08  1.981116e+07  2293.590000  15000.000000  11467.000000   \n",
       "\n",
       "       orderTypeId      fxRate  totalInBaseCurrency  feeInBaseCurrency  \\\n",
       "count   870.000000  876.000000           876.000000         852.000000   \n",
       "mean      1.806897    1.219161             6.367550          -0.761185   \n",
       "std       0.591033    1.176719          1227.270217           1.013625   \n",
       "min       0.000000    0.000000         -6598.463588          -9.070000   \n",
       "25%       2.000000    1.108708          -511.433991          -0.592500   \n",
       "50%       2.000000    1.131118           -87.057732          -0.530000   \n",
       "75%       2.000000    1.180780           407.109835          -0.510000   \n",
       "max       2.000000   10.767056          9407.389091          -0.010000   \n",
       "\n",
       "       totalPlusFeeInBaseCurrency  transactionTypeId  \n",
       "count                  876.000000         876.000000  \n",
       "mean                     5.627219           0.719178  \n",
       "std                   1227.244843           8.668427  \n",
       "min                  -6599.223588           0.000000  \n",
       "25%                   -511.943991           0.000000  \n",
       "50%                    -87.557732           0.000000  \n",
       "75%                    406.669835           0.000000  \n",
       "max                   9406.559091         108.000000  "
      ]
     },
     "execution_count": 26,
     "metadata": {},
     "output_type": "execute_result"
    }
   ],
   "source": [
    "transactions_df.describe()"
   ]
  },
  {
   "cell_type": "code",
   "execution_count": 27,
   "metadata": {},
   "outputs": [
    {
     "data": {
      "text/html": [
       "<div>\n",
       "<style scoped>\n",
       "    .dataframe tbody tr th:only-of-type {\n",
       "        vertical-align: middle;\n",
       "    }\n",
       "\n",
       "    .dataframe tbody tr th {\n",
       "        vertical-align: top;\n",
       "    }\n",
       "\n",
       "    .dataframe thead th {\n",
       "        text-align: right;\n",
       "    }\n",
       "</style>\n",
       "<table border=\"1\" class=\"dataframe\">\n",
       "  <thead>\n",
       "    <tr style=\"text-align: right;\">\n",
       "      <th></th>\n",
       "      <th>id</th>\n",
       "      <th>productId</th>\n",
       "      <th>date</th>\n",
       "      <th>buysell</th>\n",
       "      <th>price</th>\n",
       "      <th>quantity</th>\n",
       "      <th>total</th>\n",
       "      <th>orderTypeId</th>\n",
       "      <th>counterParty</th>\n",
       "      <th>transfered</th>\n",
       "      <th>fxRate</th>\n",
       "      <th>totalInBaseCurrency</th>\n",
       "      <th>feeInBaseCurrency</th>\n",
       "      <th>totalPlusFeeInBaseCurrency</th>\n",
       "      <th>transactionTypeId</th>\n",
       "      <th>tradingVenue</th>\n",
       "    </tr>\n",
       "  </thead>\n",
       "  <tbody>\n",
       "    <tr>\n",
       "      <th>0</th>\n",
       "      <td>153439824</td>\n",
       "      <td>13433777</td>\n",
       "      <td>2019-04-04T15:30:00+02:00</td>\n",
       "      <td>B</td>\n",
       "      <td>21.98</td>\n",
       "      <td>15</td>\n",
       "      <td>-329.70</td>\n",
       "      <td>2.0</td>\n",
       "      <td>MK</td>\n",
       "      <td>False</td>\n",
       "      <td>1.120920</td>\n",
       "      <td>-294.135583</td>\n",
       "      <td>-0.55</td>\n",
       "      <td>-294.685583</td>\n",
       "      <td>0</td>\n",
       "      <td>XNYS</td>\n",
       "    </tr>\n",
       "    <tr>\n",
       "      <th>1</th>\n",
       "      <td>153514251</td>\n",
       "      <td>1156277</td>\n",
       "      <td>2019-04-04T17:34:27+02:00</td>\n",
       "      <td>B</td>\n",
       "      <td>84.76</td>\n",
       "      <td>5</td>\n",
       "      <td>-423.80</td>\n",
       "      <td>2.0</td>\n",
       "      <td>MK</td>\n",
       "      <td>False</td>\n",
       "      <td>1.122221</td>\n",
       "      <td>-377.651951</td>\n",
       "      <td>-0.52</td>\n",
       "      <td>-378.171951</td>\n",
       "      <td>0</td>\n",
       "      <td>IEXG</td>\n",
       "    </tr>\n",
       "    <tr>\n",
       "      <th>2</th>\n",
       "      <td>153946118</td>\n",
       "      <td>1135199</td>\n",
       "      <td>2019-04-10T15:39:10+02:00</td>\n",
       "      <td>B</td>\n",
       "      <td>178.82</td>\n",
       "      <td>1</td>\n",
       "      <td>-178.82</td>\n",
       "      <td>2.0</td>\n",
       "      <td>MK</td>\n",
       "      <td>False</td>\n",
       "      <td>1.124323</td>\n",
       "      <td>-159.050799</td>\n",
       "      <td>-0.50</td>\n",
       "      <td>-159.550799</td>\n",
       "      <td>0</td>\n",
       "      <td>EDGA</td>\n",
       "    </tr>\n",
       "    <tr>\n",
       "      <th>3</th>\n",
       "      <td>153946119</td>\n",
       "      <td>1135199</td>\n",
       "      <td>2019-04-10T15:39:10+02:00</td>\n",
       "      <td>B</td>\n",
       "      <td>178.79</td>\n",
       "      <td>2</td>\n",
       "      <td>-357.58</td>\n",
       "      <td>2.0</td>\n",
       "      <td>MK</td>\n",
       "      <td>False</td>\n",
       "      <td>1.124323</td>\n",
       "      <td>-318.051624</td>\n",
       "      <td>-0.01</td>\n",
       "      <td>-318.061624</td>\n",
       "      <td>0</td>\n",
       "      <td>XNAS</td>\n",
       "    </tr>\n",
       "    <tr>\n",
       "      <th>4</th>\n",
       "      <td>154053075</td>\n",
       "      <td>1140987</td>\n",
       "      <td>2019-04-11T15:33:43+02:00</td>\n",
       "      <td>B</td>\n",
       "      <td>90.55</td>\n",
       "      <td>6</td>\n",
       "      <td>-543.30</td>\n",
       "      <td>2.0</td>\n",
       "      <td>MK</td>\n",
       "      <td>False</td>\n",
       "      <td>1.126525</td>\n",
       "      <td>-482.287253</td>\n",
       "      <td>-0.52</td>\n",
       "      <td>-482.807253</td>\n",
       "      <td>0</td>\n",
       "      <td>BATS</td>\n",
       "    </tr>\n",
       "  </tbody>\n",
       "</table>\n",
       "</div>"
      ],
      "text/plain": [
       "          id  productId                       date buysell   price  quantity  \\\n",
       "0  153439824   13433777  2019-04-04T15:30:00+02:00       B   21.98        15   \n",
       "1  153514251    1156277  2019-04-04T17:34:27+02:00       B   84.76         5   \n",
       "2  153946118    1135199  2019-04-10T15:39:10+02:00       B  178.82         1   \n",
       "3  153946119    1135199  2019-04-10T15:39:10+02:00       B  178.79         2   \n",
       "4  154053075    1140987  2019-04-11T15:33:43+02:00       B   90.55         6   \n",
       "\n",
       "    total  orderTypeId counterParty  transfered    fxRate  \\\n",
       "0 -329.70          2.0           MK       False  1.120920   \n",
       "1 -423.80          2.0           MK       False  1.122221   \n",
       "2 -178.82          2.0           MK       False  1.124323   \n",
       "3 -357.58          2.0           MK       False  1.124323   \n",
       "4 -543.30          2.0           MK       False  1.126525   \n",
       "\n",
       "   totalInBaseCurrency  feeInBaseCurrency  totalPlusFeeInBaseCurrency  \\\n",
       "0          -294.135583              -0.55                 -294.685583   \n",
       "1          -377.651951              -0.52                 -378.171951   \n",
       "2          -159.050799              -0.50                 -159.550799   \n",
       "3          -318.051624              -0.01                 -318.061624   \n",
       "4          -482.287253              -0.52                 -482.807253   \n",
       "\n",
       "   transactionTypeId tradingVenue  \n",
       "0                  0         XNYS  \n",
       "1                  0         IEXG  \n",
       "2                  0         EDGA  \n",
       "3                  0         XNAS  \n",
       "4                  0         BATS  "
      ]
     },
     "execution_count": 27,
     "metadata": {},
     "output_type": "execute_result"
    }
   ],
   "source": [
    "transactions_df.head()"
   ]
  },
  {
   "cell_type": "markdown",
   "metadata": {},
   "source": [
    "### Transactions Analysis"
   ]
  },
  {
   "cell_type": "code",
   "execution_count": null,
   "metadata": {},
   "outputs": [],
   "source": []
  },
  {
   "cell_type": "code",
   "execution_count": null,
   "metadata": {},
   "outputs": [],
   "source": []
  },
  {
   "cell_type": "code",
   "execution_count": 1,
   "metadata": {},
   "outputs": [
    {
     "name": "stdout",
     "output_type": "stream",
     "text": [
      "[]\n"
     ]
    }
   ],
   "source": []
  },
  {
   "cell_type": "code",
   "execution_count": null,
   "metadata": {},
   "outputs": [],
   "source": [
    "import degiroapi\n",
    "from degiroapi.product import Product\n",
    "from degiroapi.order import Order\n",
    "from degiroapi.utils import pretty_json\n",
    "\n",
    "import pandas as pd\n",
    "import numpy as np\n",
    "\n",
    "from datetime import datetime, timedelta\n",
    "\n",
    "# login\n",
    "degiro = degiroapi.DeGiro()\n",
    "degiro.login(\"RobinHocepied\", \"Jeancharles146124%\")\n",
    "\n",
    "  \n",
    "# getting realtime and historical data from a stock\n",
    "products = degiro.search_products('PINS')\n",
    "high=[]\n",
    "nb = []\n",
    "\n",
    "\n",
    "for x in range(2):\n",
    "        realprice = degiro.real_time_price(Product(products[0]).id, degiroapi.Interval.Type.Max)  \n",
    "        rp = realprice[0]['data']['lastPrice']\n",
    "        print(high)\n",
    "    \n",
    "        #time.sleep(60)\n",
    "        realprice1 = degiro.real_time_price(Product(products[0]).id, degiroapi.Interval.Type.Max)  \n",
    "        rp1 = realprice1[0]['data']['lastPrice']\n",
    "        if rp1 > rp:\n",
    "            rp3 = 0.97*rp1\n",
    "            high.append(rp1*0.97)\n",
    "            nb.append(1)\n",
    "            degiro.buyorder(Order.Type.LIMIT, Product(products[0]).id, 3, 1, round(rp3,2))\n",
    "            if len(nb) == 0: \n",
    "                break\n",
    "            break\n",
    "        break\n",
    "            \n",
    "        print(high)\n",
    "        print(nb)\n",
    "       \n"
   ]
  },
  {
   "cell_type": "code",
   "execution_count": null,
   "metadata": {},
   "outputs": [],
   "source": []
  }
 ],
 "metadata": {
  "kernelspec": {
   "display_name": "Python 3 (ipykernel)",
   "language": "python",
   "name": "python3"
  },
  "language_info": {
   "codemirror_mode": {
    "name": "ipython",
    "version": 3
   },
   "file_extension": ".py",
   "mimetype": "text/x-python",
   "name": "python",
   "nbconvert_exporter": "python",
   "pygments_lexer": "ipython3",
   "version": "3.8.5"
  }
 },
 "nbformat": 4,
 "nbformat_minor": 4
}
